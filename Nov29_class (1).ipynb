{
 "cells": [
  {
   "cell_type": "markdown",
   "metadata": {
    "id": "k_MwR8EWSEI-"
   },
   "source": [
    "![oesonlearning_logo.jpeg](data:image/jpeg;base64,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)    PANDAS AND NUMPY"
   ]
  },
  {
   "cell_type": "markdown",
   "metadata": {
    "id": "y1TuS2ysJTuG"
   },
   "source": [
    "# NumPy (Numerical Python):\n",
    "NumPy is a powerful library for numerical computing in Python. It provides support for multi-dimensional arrays, mathematical functions, and random number generation.\n",
    "\n",
    "**Key Features of NumPy:**\n",
    "1. N-Dimensional Arrays (ndarray):\n",
    "- Provides efficient storage and manipulation of large numerical datasets.\n",
    "- Supports indexing, slicing, and broadcasting.\n",
    "\n",
    "2. Mathematical Operations:\n",
    "- Functions for element-wise operations and matrix manipulations.\n",
    "- Includes linear algebra, Fourier transforms, and random number generation.\n",
    "\n",
    "3. Performance:\n",
    "- Operations are implemented in C, making them faster than equivalent Python code using lists.\n",
    "\n",
    "4. Integration:\n",
    "- Integrates with C/C++ and Fortran code.\n",
    "- Acts as a foundation for other data science libraries like Pandas and SciPy.\n",
    "\n",
    "**Commonly Used Functions:**\n",
    "- np.array(): Create an array.\n",
    "- np.zeros(), np.ones(), np.empty(): Create arrays with specific initial values.\n",
    "- np.arange(), np.linspace(): Generate sequences.\n",
    "- np.mean(), np.median(), np.sum(), np.std(): Statistical operations.\n",
    "- np.dot(): Matrix multiplication.\n",
    "- np.random: Random number generation.\n",
    "\n"
   ]
  },
  {
   "cell_type": "markdown",
   "metadata": {
    "id": "efyCQ1ePNQ0v"
   },
   "source": [
    "# Pandas (Python Data Analysis Library):\n",
    "Pandas is a library for data manipulation and analysis, built on top of NumPy. It introduces two primary data structures:\n",
    "\n",
    "1. Series: 1D labeled array.\n",
    "2. DataFrame: 2D labeled, size-mutable, heterogeneous table.\n",
    "\n",
    "**Key Features of Pandas:**\n",
    "\n",
    "1. Data Structures:\n",
    "- Series: Similar to a 1D array but with labels (index).\n",
    "- DataFrame: Tabular data with labeled axes (rows and columns).\n",
    "\n",
    "2. Data Manipulation:\n",
    "- Filtering, grouping, and aggregation.\n",
    "- Handling missing data (NaN).\n",
    "\n",
    "3. File I/O:\n",
    "- Supports reading/writing data from CSV, Excel, JSON, SQL, etc.\n",
    "\n",
    "4. Data Alignment and Reshaping:\n",
    "- Aligns data automatically based on labels.\n",
    "- Supports reshaping data with pivot tables and stacking/unstacking.\n",
    "\n",
    "5. Time Series Analysis:\n",
    "- Powerful tools for working with time-indexed data.\n",
    "\n",
    "**Commonly Used Functions:**\n",
    "- pd.read_csv(): Read data from a CSV file.\n",
    "- pd.DataFrame(): Create a DataFrame.\n",
    "- .head(), .tail(): Preview rows of a DataFrame.\n",
    "- .info(), .describe(): Get metadata and summary statistics.\n",
    "- .groupby(): Group and aggregate data.\n",
    "- .merge(), .join(): Combine datasets."
   ]
  },
  {
   "cell_type": "markdown",
   "metadata": {
    "id": "uRjYCG0sOK5e"
   },
   "source": [
    "# 1. How to create a DataFrame from a NumPy array with labeled rows and columns?"
   ]
  },
  {
   "cell_type": "code",
   "execution_count": 29,
   "metadata": {
    "colab": {
     "base_uri": "https://localhost:8080/",
     "height": 54
    },
    "id": "46LfAmn0JKMO",
    "outputId": "55498e75-4f90-4f5a-ad65-f09b237cc97d"
   },
   "outputs": [
    {
     "name": "stdout",
     "output_type": "stream",
     "text": [
      "      A  B\n",
      "Row1  1  2\n",
      "Row2  3  4\n",
      "Row3  5  6\n"
     ]
    }
   ],
   "source": [
    "''' You have a NumPy array:\n",
    "arr = np.array([[1, 2], [3, 4], [5, 6]]).\n",
    "Convert it into a Pandas DataFrame with columns named A and B, and rows labeled as Row1, Row2, and Row3.'''\n",
    "import numpy as np\n",
    "import pandas as pd\n",
    "arr = np.array([[1, 2], [3, 4], [5, 6]])\n",
    "arr_df = pd.DataFrame(arr, columns=[\"A\", \"B\"], index=[\"Row1\", \"Row2\", \"Row3\"])\n",
    "print(arr_df)\n"
   ]
  },
  {
   "cell_type": "markdown",
   "metadata": {
    "id": "QH4voCx0OSiT"
   },
   "source": [
    "# 2. How to handle missing data in a DataFrame?"
   ]
  },
  {
   "cell_type": "code",
   "execution_count": 32,
   "metadata": {
    "colab": {
     "base_uri": "https://localhost:8080/",
     "height": 54
    },
    "id": "Lup0HxVKOV3l",
    "outputId": "30b4f613-2a61-445e-cb56-73e6a7cde1d1"
   },
   "outputs": [
    {
     "name": "stdout",
     "output_type": "stream",
     "text": [
      "      Name   Age   Salary\n",
      "0    Alice  25.0  50000.0\n",
      "1      Bob   NaN  60000.0\n",
      "2  Unknown  30.0      NaN\n",
      "      Name   Age   Salary\n",
      "0    Alice  25.0  50000.0\n",
      "1      Bob  27.5  60000.0\n",
      "2  Unknown  30.0      NaN\n",
      "    Name   Age   Salary\n",
      "0  Alice  25.0  50000.0\n",
      "1    Bob  27.5  60000.0\n"
     ]
    }
   ],
   "source": [
    "# You are given a DataFrame:\n",
    "'''data = {'Name': ['Alice', 'Bob', None],\n",
    "        'Age': [25, None, 30],\n",
    "        'Salary': [50000, 60000, None]}\n",
    "df = pd.DataFrame(data)'''\n",
    "\n",
    "#Handle missing values by:\n",
    "'''\n",
    "1. Replacing None in the Name column with \"Unknown\".\n",
    "2. Filling missing values in the Age column with the column mean.\n",
    "3. Dropping rows where the Salary is missing.'''\n",
    "#fillna parameters - mention what to fill with; in place\n",
    "#dropna parameters - subset = mention from which column the null values to be dropped; in place\n",
    "data = {'Name': ['Alice', 'Bob', None],\n",
    "        'Age': [25, None, 30],\n",
    "        'Salary': [50000, 60000, None]}\n",
    "df = pd.DataFrame(data)\n",
    "\n",
    "df['Name'].fillna(\"Unknown\", inplace= True)\n",
    "print(df)\n",
    "\n",
    "#2\n",
    "df['Age'].fillna(df['Age'].mean(),inplace= True)\n",
    "print(df)\n",
    "\n",
    "#3\n",
    "df.dropna(subset=['Salary'],inplace= True)\n",
    "print(df)\n"
   ]
  },
  {
   "cell_type": "markdown",
   "metadata": {
    "id": "wMXQeQfhOvFL"
   },
   "source": [
    "# 3. How to calculate the dot product of two matrices in NumPy?"
   ]
  },
  {
   "cell_type": "code",
   "execution_count": 34,
   "metadata": {
    "colab": {
     "base_uri": "https://localhost:8080/",
     "height": 36
    },
    "id": "1e_j3faQO1Fa",
    "outputId": "7a31f840-8318-4aca-e356-520c14d5fbbf"
   },
   "outputs": [
    {
     "name": "stdout",
     "output_type": "stream",
     "text": [
      "[[19 22]\n",
      " [43 50]]\n"
     ]
    }
   ],
   "source": [
    "'''Given two matrices:\n",
    "A = np.array([[1, 2], [3, 4]])\n",
    "B = np.array([[5, 6], [7, 8]])\n",
    "Compute their dot product.'''\n",
    "\n",
    "A = np.array([[1, 2], [3, 4]])\n",
    "B = np.array([[5, 6], [7, 8]])\n",
    "A_dot_B = np.dot(A, B)\n",
    "print(A_dot_B)"
   ]
  },
  {
   "cell_type": "markdown",
   "metadata": {
    "id": "fdFcyKd_PAGN"
   },
   "source": [
    "# 4. How to sort a Pandas DataFrame by multiple columns?"
   ]
  },
  {
   "cell_type": "code",
   "execution_count": 36,
   "metadata": {
    "colab": {
     "base_uri": "https://localhost:8080/",
     "height": 72
    },
    "id": "ZnJdMD8IPBc2",
    "outputId": "aa5efb69-dd6f-4e4d-ac40-1e263c0dfdd5"
   },
   "outputs": [
    {
     "name": "stdout",
     "output_type": "stream",
     "text": [
      "      Name  Age  Salary\n",
      "0    Alice   25   50000\n",
      "2  Charlie   25   45000\n",
      "1      Bob   30   60000\n"
     ]
    }
   ],
   "source": [
    "'''You are given the following DataFrame:\n",
    "data = {'Name': ['Alice', 'Bob', 'Charlie'],\n",
    "        'Age': [25, 30, 25],\n",
    "        'Salary': [50000, 60000, 45000]}\n",
    "df = pd.DataFrame(data)\n",
    "Sort the DataFrame first by Age in ascending order, and then by Salary in descending order.'''\n",
    "data = {'Name': ['Alice', 'Bob', 'Charlie'],\n",
    "        'Age': [25, 30, 25],\n",
    "        'Salary': [50000, 60000, 45000]}\n",
    "df = pd.DataFrame(data)\n",
    "df_sorted = df.sort_values(by =['Age', 'Salary'], ascending =[True, False])\n",
    "print(df_sorted)"
   ]
  },
  {
   "cell_type": "markdown",
   "metadata": {
    "id": "kVcmYI7zPJvE"
   },
   "source": [
    "# 5. How to perform group aggregation in Pandas?"
   ]
  },
  {
   "cell_type": "code",
   "execution_count": 38,
   "metadata": {
    "colab": {
     "base_uri": "https://localhost:8080/",
     "height": 72
    },
    "id": "wSnPu85xPL7r",
    "outputId": "180eb371-4a05-4399-9a4c-813d781600ce"
   },
   "outputs": [
    {
     "data": {
      "text/plain": [
       "Department\n",
       "Finance    70000.0\n",
       "HR         47500.0\n",
       "IT         70000.0\n",
       "Name: Salary, dtype: float64"
      ]
     },
     "execution_count": 38,
     "metadata": {},
     "output_type": "execute_result"
    }
   ],
   "source": [
    "'''You are given the following DataFrame:\n",
    "data = {'Department': ['HR', 'IT', 'HR', 'IT', 'Finance'],\n",
    "        'Employee': ['Alice', 'Bob', 'Charlie', 'David', 'Eve'],\n",
    "        'Salary': [50000, 60000, 45000, 80000, 70000]}\n",
    "df = pd.DataFrame(data)\n",
    "Find the average salary for each department.'''\n",
    "\n",
    "data = {'Department': ['HR', 'IT', 'HR', 'IT', 'Finance'],\n",
    "        'Employee': ['Alice', 'Bob', 'Charlie', 'David', 'Eve'],\n",
    "        'Salary': [50000, 60000, 45000, 80000, 70000]}\n",
    "df = pd.DataFrame(data)\n",
    "df.groupby([\"Department\"])['Salary'].mean()"
   ]
  },
  {
   "cell_type": "markdown",
   "metadata": {
    "id": "hmgMdP34PUCe"
   },
   "source": [
    "# 6. How to find unique values and their counts in a NumPy array?"
   ]
  },
  {
   "cell_type": "code",
   "execution_count": 40,
   "metadata": {
    "id": "-aEwcDxLPTwM"
   },
   "outputs": [
    {
     "name": "stdout",
     "output_type": "stream",
     "text": [
      "Unique values: [1 2 3 4 5]\n",
      "Counts: [1 2 1 3 1]\n"
     ]
    }
   ],
   "source": [
    "'''Given the array:\n",
    "arr = np.array([1, 2, 2, 3, 4, 4, 4, 5])\n",
    "Find the unique values and their counts.'''\n",
    "arr = np.array([1, 2, 2, 3, 4, 4, 4, 5])\n",
    "unique_values, counts = np.unique(arr, return_counts=True)\n",
    "print(\"Unique values:\", unique_values)\n",
    "print(\"Counts:\", counts)"
   ]
  },
  {
   "cell_type": "markdown",
   "metadata": {
    "id": "PR_Bvl4UPca9"
   },
   "source": [
    "# 7. How to merge two DataFrames in Pandas?\n"
   ]
  },
  {
   "cell_type": "code",
   "execution_count": 42,
   "metadata": {
    "id": "y_iwbIhWPj57"
   },
   "outputs": [
    {
     "name": "stdout",
     "output_type": "stream",
     "text": [
      "   ID Name  Salary\n",
      "0   2  Bob   60000\n"
     ]
    }
   ],
   "source": [
    "'''You are given two DataFrames:\n",
    "df1 = pd.DataFrame({'ID': [1, 2], 'Name': ['Alice', 'Bob']})\n",
    "df2 = pd.DataFrame({'ID': [2, 3], 'Salary': [60000, 70000]})\n",
    "Perform an inner merge on the ID column.'''\n",
    "df1 = pd.DataFrame({'ID': [1, 2], 'Name': ['Alice', 'Bob']})\n",
    "df2 = pd.DataFrame({'ID': [2, 3], 'Salary': [60000, 70000]})\n",
    "df_merged = pd.merge(df1, df2, how='inner', on='ID')\n",
    "print(df_merged)"
   ]
  },
  {
   "cell_type": "markdown",
   "metadata": {
    "id": "ZPrbyKK9kUDc"
   },
   "source": [
    "# 8. How to reshape a NumPy array?"
   ]
  },
  {
   "cell_type": "code",
   "execution_count": 44,
   "metadata": {
    "id": "MIlxWrd-kdVm"
   },
   "outputs": [
    {
     "name": "stdout",
     "output_type": "stream",
     "text": [
      "[[1 2 3]\n",
      " [4 5 6]]\n"
     ]
    }
   ],
   "source": [
    "'''You have an array:\n",
    "arr = np.array([1, 2, 3, 4, 5, 6])\n",
    "Reshape it into a 2x3 matrix.'''\n",
    "\n",
    "# 1 dimensional array to 2 dimensional array with 2 rows and 3 columns: \n",
    "#Reshape function- parameters : no of rows and no. of columns\n",
    "arr = np.array([1, 2, 3, 4, 5, 6])\n",
    "arr_reshaped= arr.reshape(2,3)\n",
    "print(arr_reshaped)\n"
   ]
  },
  {
   "cell_type": "markdown",
   "metadata": {
    "id": "hOKPQJ8NPtaX"
   },
   "source": [
    "# 9. How to handle large CSV files efficiently in Pandas?"
   ]
  },
  {
   "cell_type": "code",
   "execution_count": 52,
   "metadata": {
    "id": "k1cB_sdaP11F"
   },
   "outputs": [
    {
     "data": {
      "text/plain": [
       "1150"
      ]
     },
     "execution_count": 52,
     "metadata": {},
     "output_type": "execute_result"
    }
   ],
   "source": [
    "'''A large CSV file needs to be processed in chunks. Demonstrate how to read the file in chunks and compute the total sum of a\n",
    "column named Sales.'''\n",
    "\n",
    "#Mention the file path\n",
    "file_path = \"  \"\n",
    "\n",
    "# Mention the chunk size, the number of rows in each chunk\n",
    "chunksize = 1000\n",
    "\n",
    "#Create a empty list to store all chunks\n",
    "chunks = []\n",
    "\n",
    "#Loop over and read the file in chunks and append the chunks in the created list\n",
    "for chunk in pd.read_csv(file_path, chunksize= chunksize):\n",
    "    chunks.append(chunk)\n",
    "\n",
    "#if needed, concatenate and create a single dataframe for all chunkd\n",
    "df_chunks = pd.concat(chu\n",
    "data = {'City': ['New York', 'New York', 'Los Angeles', 'Los Angeles'],\n",
    "        'Year': [2020, 2021, 2020, 2021],\n",
    "        'Sales': [200, 250, 300, 400]}\n",
    "df = pd.DataFrame(data)\n",
    "\n",
    "#compute the total of the \"sales\" column\n",
    "df['Sales'].sum()\n"
   ]
  },
  {
   "cell_type": "markdown",
   "metadata": {
    "id": "qgN3VcUOP7yp"
   },
   "source": [
    "# 10. How to create a pivot table in Pandas?"
   ]
  },
  {
   "cell_type": "code",
   "execution_count": 48,
   "metadata": {
    "id": "c5Xzhw_bP9yu"
   },
   "outputs": [
    {
     "name": "stdout",
     "output_type": "stream",
     "text": [
      "City  Los Angeles  New York\n",
      "Year                       \n",
      "2020          300       200\n",
      "2021          400       250\n"
     ]
    }
   ],
   "source": [
    "'''You are given a DataFrame:\n",
    "data = {'City': ['New York', 'New York', 'Los Angeles', 'Los Angeles'],\n",
    "        'Year': [2020, 2021, 2020, 2021],\n",
    "        'Sales': [200, 250, 300, 400]}\n",
    "df = pd.DataFrame(data)\n",
    "Create a pivot table showing sales for each city by year.'''\n",
    "\n",
    "data = {'City': ['New York', 'New York', 'Los Angeles', 'Los Angeles'],\n",
    "        'Year': [2020, 2021, 2020, 2021],\n",
    "        'Sales': [200, 250, 300, 400]}\n",
    "df = pd.DataFrame(data)\n",
    "df_pivot_table = df.pivot_table(index= \"Year\", columns =\"City\", values = \"Sales\")\n",
    "print(df_pivot_table)"
   ]
  },
  {
   "cell_type": "markdown",
   "metadata": {
    "id": "mcXqwmx_QGwN"
   },
   "source": [
    "--------------------------------------------------------------"
   ]
  },
  {
   "cell_type": "markdown",
   "metadata": {
    "id": "uHguKGGHQDbu"
   },
   "source": [
    "# ---------------------------------ADVANCED---------------------------------"
   ]
  },
  {
   "cell_type": "markdown",
   "metadata": {
    "id": "nMxpciCfQZcW"
   },
   "source": [
    "# 1. How to perform a sliding window operation in Pandas?"
   ]
  },
  {
   "cell_type": "code",
   "execution_count": null,
   "metadata": {
    "id": "b9W2u9zMQlpx"
   },
   "outputs": [],
   "source": [
    "'''You are given a DataFrame:\n",
    "data = {'Value': [10, 20, 30, 40, 50, 60]}\n",
    "df = pd.DataFrame(data)\n",
    "Calculate the rolling average with a window size of 3.'''\n",
    "data = {'Value': [10, 20, 30, 40, 50, 60]}\n",
    "df = pd.DataFrame(data)\n",
    "#Two functions - rolling and mean\n",
    "df['Rolling Avg'] =df['Value'].rolling(window=3).mean()\n",
    "print(df)"
   ]
  },
  {
   "cell_type": "markdown",
   "metadata": {
    "id": "buPdyrhgQwZs"
   },
   "source": [
    "# 2. How to efficiently apply a custom function row-wise in Pandas?"
   ]
  },
  {
   "cell_type": "code",
   "execution_count": null,
   "metadata": {
    "id": "iY_nwNlfQ0HG"
   },
   "outputs": [],
   "source": [
    "#'''You are given the following DataFrame:\n",
    "data = {'A': [1, 2, 3], 'B': [4, 5, 6]}\n",
    "df = pd.DataFrame(data)\n",
    "#Write a \n",
    "\n",
    "data = {'A': [1, 2, 3], 'B': [4, 5, 6]}\n",
    "df = pd.DataFrame(data)\n"
   ]
  },
  {
   "cell_type": "markdown",
   "metadata": {
    "id": "rtqBEDRiRFuA"
   },
   "source": [
    "# 3. How to use NumPy for conditional indexing and masking?"
   ]
  },
  {
   "cell_type": "code",
   "execution_count": null,
   "metadata": {
    "id": "OqPFpZ4vRI69"
   },
   "outputs": [],
   "source": [
    "'''You are given the NumPy array:You are given the NumPy array:\n",
    "arr = np.array([10, 15, 20, 25, 30, 35])\n",
    "Extract all values greater than 20, and replace them with -1.'''\n",
    "\n",
    "arr = np.array([10, 15, 20, 25, 30, 35])\n",
    "condition= arr>20\n",
    "replace_value = -1\n",
    "arr[condition] = replace_value\n",
    "print(arr)"
   ]
  },
  {
   "cell_type": "markdown",
   "metadata": {
    "id": "7hzrkCEbRQQT"
   },
   "source": [
    "# 4. How to find the correlation between two columns in a Pandas DataFrame?"
   ]
  },
  {
   "cell_type": "code",
   "execution_count": null,
   "metadata": {
    "id": "XusoEHrhRfI3"
   },
   "outputs": [],
   "source": [
    "'''You are given a DataFrame:\n",
    "data = {'X': [1, 2, 3, 4, 5], 'Y': [5, 4, 3, 2, 1]}\n",
    "df = pd.DataFrame(data)\n",
    "Find the Pearson correlation coefficient between X and Y.'''\n",
    "data = {'X': [1, 2, 3, 4, 5], 'Y': [5, 4, 3, 2, 1]}\n",
    "df = pd.DataFrame(data)\n",
    "df_corr = df['X'].corr(df['Y'])\n",
    "print(\"Pearsons correlation coefficient :\", df_corr)"
   ]
  },
  {
   "cell_type": "markdown",
   "metadata": {
    "id": "jreR9jRiRltd"
   },
   "source": [
    "# 5. How to merge two large DataFrames efficiently in Pandas?"
   ]
  },
  {
   "cell_type": "code",
   "execution_count": null,
   "metadata": {
    "id": "BvKDj6Y5Rp8J"
   },
   "outputs": [],
   "source": [
    "'''You are given two DataFrames:\n",
    "df1 = pd.DataFrame({'ID': range(1, 1000001), 'Value1': range(1, 1000001)})\n",
    "df2 = pd.DataFrame({'ID': range(500001, 1500001), 'Value2': range(1, 1000001)})\n",
    "Perform an efficient merge on the ID column.'''\n",
    "df1 = pd.DataFrame({'ID': range(1, 1000001), 'Value1': range(1, 1000001)})\n",
    "df2 = pd.DataFrame({'ID': range(500001, 1500001), 'Value2': range(1, 1000001)})\n",
    "\n",
    "# Both ID columns are of same data types \"int\"\n",
    "#Now setting the ID column as index for both dtaframes to facilitate efficient merging\n",
    "df1.set_index(\"ID\", inplace = True)\n",
    "df2.set_index(\"ID\", inplace = True)\n",
    "#Now sorting both dataframes based on their index\"ID\"\n",
    "df1.sort_index(inplace = True)\n",
    "df2.sort_index(inplace = True)\n",
    "#now merging both dataframes\n",
    "merged_df = pd.merge(df1, df2, right_index= True, left_index=True, how=\"inner\", sort=False)\n",
    "print(merged_df)"
   ]
  },
  {
   "cell_type": "markdown",
   "metadata": {
    "id": "szrmb9-FRxwC"
   },
   "source": []
  }
 ],
 "metadata": {
  "colab": {
   "provenance": []
  },
  "kernelspec": {
   "display_name": "anaconda-panel-2023.05-py310",
   "language": "python",
   "name": "conda-env-anaconda-panel-2023.05-py310-py"
  },
  "language_info": {
   "codemirror_mode": {
    "name": "ipython",
    "version": 3
   },
   "file_extension": ".py",
   "mimetype": "text/x-python",
   "name": "python",
   "nbconvert_exporter": "python",
   "pygments_lexer": "ipython3",
   "version": "3.11.5"
  }
 },
 "nbformat": 4,
 "nbformat_minor": 4
}
